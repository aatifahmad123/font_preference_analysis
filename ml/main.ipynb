{
 "cells": [
  {
   "cell_type": "code",
   "execution_count": 1,
   "metadata": {},
   "outputs": [],
   "source": [
    "import pandas as pd\n",
    "import numpy as np\n",
    "from sklearn.model_selection import train_test_split\n",
    "from sklearn.preprocessing import LabelEncoder\n",
    "from sklearn.ensemble import RandomForestClassifier\n",
    "from sklearn.metrics import accuracy_score, classification_report\n",
    "import joblib"
   ]
  },
  {
   "cell_type": "code",
   "execution_count": 2,
   "metadata": {},
   "outputs": [],
   "source": [
    "data = pd.read_csv('./font_usage_data_100k.csv')"
   ]
  },
  {
   "cell_type": "code",
   "execution_count": 3,
   "metadata": {},
   "outputs": [
    {
     "data": {
      "text/html": [
       "<div>\n",
       "<style scoped>\n",
       "    .dataframe tbody tr th:only-of-type {\n",
       "        vertical-align: middle;\n",
       "    }\n",
       "\n",
       "    .dataframe tbody tr th {\n",
       "        vertical-align: top;\n",
       "    }\n",
       "\n",
       "    .dataframe thead th {\n",
       "        text-align: right;\n",
       "    }\n",
       "</style>\n",
       "<table border=\"1\" class=\"dataframe\">\n",
       "  <thead>\n",
       "    <tr style=\"text-align: right;\">\n",
       "      <th></th>\n",
       "      <th>id</th>\n",
       "      <th>age</th>\n",
       "      <th>gender</th>\n",
       "      <th>usage_frequency</th>\n",
       "      <th>usage_context</th>\n",
       "      <th>preferred_font_size</th>\n",
       "      <th>font_name</th>\n",
       "    </tr>\n",
       "  </thead>\n",
       "  <tbody>\n",
       "    <tr>\n",
       "      <th>0</th>\n",
       "      <td>1</td>\n",
       "      <td>22</td>\n",
       "      <td>Male</td>\n",
       "      <td>Always</td>\n",
       "      <td>Personal</td>\n",
       "      <td>17</td>\n",
       "      <td>Times New Roman</td>\n",
       "    </tr>\n",
       "    <tr>\n",
       "      <th>1</th>\n",
       "      <td>2</td>\n",
       "      <td>48</td>\n",
       "      <td>Female</td>\n",
       "      <td>Rarely</td>\n",
       "      <td>Professional</td>\n",
       "      <td>13</td>\n",
       "      <td>Helvetica</td>\n",
       "    </tr>\n",
       "    <tr>\n",
       "      <th>2</th>\n",
       "      <td>3</td>\n",
       "      <td>35</td>\n",
       "      <td>Female</td>\n",
       "      <td>Rarely</td>\n",
       "      <td>Educational</td>\n",
       "      <td>20</td>\n",
       "      <td>Arima</td>\n",
       "    </tr>\n",
       "    <tr>\n",
       "      <th>3</th>\n",
       "      <td>4</td>\n",
       "      <td>51</td>\n",
       "      <td>Female</td>\n",
       "      <td>Often</td>\n",
       "      <td>Educational</td>\n",
       "      <td>16</td>\n",
       "      <td>Helvetica</td>\n",
       "    </tr>\n",
       "    <tr>\n",
       "      <th>4</th>\n",
       "      <td>5</td>\n",
       "      <td>44</td>\n",
       "      <td>Female</td>\n",
       "      <td>Rarely</td>\n",
       "      <td>Professional</td>\n",
       "      <td>8</td>\n",
       "      <td>Times New Roman</td>\n",
       "    </tr>\n",
       "  </tbody>\n",
       "</table>\n",
       "</div>"
      ],
      "text/plain": [
       "   id  age  gender usage_frequency usage_context  preferred_font_size  \\\n",
       "0   1   22    Male          Always      Personal                   17   \n",
       "1   2   48  Female          Rarely  Professional                   13   \n",
       "2   3   35  Female          Rarely   Educational                   20   \n",
       "3   4   51  Female           Often   Educational                   16   \n",
       "4   5   44  Female          Rarely  Professional                    8   \n",
       "\n",
       "         font_name  \n",
       "0  Times New Roman  \n",
       "1        Helvetica  \n",
       "2            Arima  \n",
       "3        Helvetica  \n",
       "4  Times New Roman  "
      ]
     },
     "execution_count": 3,
     "metadata": {},
     "output_type": "execute_result"
    }
   ],
   "source": [
    "data.head()"
   ]
  },
  {
   "cell_type": "code",
   "execution_count": 4,
   "metadata": {},
   "outputs": [],
   "source": [
    "label_encoders = {}\n",
    "categorical_columns = ['gender', 'usage_frequency', 'usage_context']\n",
    "\n",
    "for col in categorical_columns:\n",
    "    le = LabelEncoder()\n",
    "    data[col] = le.fit_transform(data[col])\n",
    "    label_encoders[col] = le"
   ]
  },
  {
   "cell_type": "code",
   "execution_count": 5,
   "metadata": {},
   "outputs": [],
   "source": [
    "X = data.drop(columns=['font_name', 'id'])\n",
    "y = data['font_name']\n",
    "\n",
    "\n",
    "X_train, X_test, y_train, y_test = train_test_split(X, y, test_size=0.2, random_state=42)"
   ]
  },
  {
   "cell_type": "code",
   "execution_count": 6,
   "metadata": {},
   "outputs": [
    {
     "name": "stdout",
     "output_type": "stream",
     "text": [
      "Accuracy: 0.1278\n",
      "Classification Report:\n",
      "                 precision    recall  f1-score   support\n",
      "\n",
      "          Arial       0.13      0.12      0.13      2522\n",
      "          Arima       0.12      0.13      0.13      2406\n",
      "        Calibri       0.12      0.12      0.12      2564\n",
      "      Helvetica       0.14      0.14      0.14      2458\n",
      "      Open Sans       0.12      0.13      0.12      2508\n",
      "         Roboto       0.14      0.13      0.13      2542\n",
      "Times New Roman       0.13      0.13      0.13      2513\n",
      "        Verdana       0.12      0.13      0.13      2487\n",
      "\n",
      "       accuracy                           0.13     20000\n",
      "      macro avg       0.13      0.13      0.13     20000\n",
      "   weighted avg       0.13      0.13      0.13     20000\n",
      "\n"
     ]
    },
    {
     "data": {
      "text/plain": [
       "['font_usage_classifier.pkl']"
      ]
     },
     "execution_count": 6,
     "metadata": {},
     "output_type": "execute_result"
    }
   ],
   "source": [
    "# Random Forest Classifier\n",
    "model = RandomForestClassifier(n_estimators=100, random_state=42)\n",
    "\n",
    "model.fit(X_train, y_train)\n",
    "\n",
    "y_pred = model.predict(X_test)\n",
    "\n",
    "accuracy = accuracy_score(y_test, y_pred)\n",
    "print(f\"Accuracy: {accuracy:.4f}\")\n",
    "print(\"Classification Report:\")\n",
    "print(classification_report(y_test, y_pred))\n",
    "\n",
    "joblib.dump(model, 'font_usage_classifier.pkl')\n"
   ]
  },
  {
   "cell_type": "code",
   "execution_count": 8,
   "metadata": {},
   "outputs": [
    {
     "name": "stdout",
     "output_type": "stream",
     "text": [
      "Predicted Font Name: Verdana\n"
     ]
    }
   ],
   "source": [
    "model = joblib.load('./font_usage_classifier.pkl')\n",
    "\n",
    "new_data = pd.DataFrame({\n",
    "    'age': [30],\n",
    "    'gender': [0],  \n",
    "    'usage_frequency': [2],  \n",
    "    'usage_context': [1],  \n",
    "    'preferred_font_size': [14]\n",
    "})\n",
    "\n",
    "font_prediction = model.predict(new_data)\n",
    "print(f\"Predicted Font Name: {font_prediction[0]}\")\n"
   ]
  },
  {
   "cell_type": "code",
   "execution_count": null,
   "metadata": {},
   "outputs": [],
   "source": []
  }
 ],
 "metadata": {
  "kernelspec": {
   "display_name": "Python 3",
   "language": "python",
   "name": "python3"
  },
  "language_info": {
   "codemirror_mode": {
    "name": "ipython",
    "version": 3
   },
   "file_extension": ".py",
   "mimetype": "text/x-python",
   "name": "python",
   "nbconvert_exporter": "python",
   "pygments_lexer": "ipython3",
   "version": "3.10.12"
  }
 },
 "nbformat": 4,
 "nbformat_minor": 2
}
